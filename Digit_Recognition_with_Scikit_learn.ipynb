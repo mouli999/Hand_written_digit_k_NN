{
  "nbformat": 4,
  "nbformat_minor": 0,
  "metadata": {
    "colab": {
      "name": "Digit Recognition with Scikit-learn.ipynb",
      "provenance": [],
      "collapsed_sections": [],
      "toc_visible": true
    },
    "kernelspec": {
      "display_name": "Python 3",
      "name": "python3"
    },
    "language_info": {
      "name": "python"
    }
  },
  "cells": [
    {
      "cell_type": "markdown",
      "metadata": {
        "id": "i3NGteYqIc_U"
      },
      "source": [
        "## Imports"
      ]
    },
    {
      "cell_type": "code",
      "metadata": {
        "id": "FMjlcOiWulsm"
      },
      "source": [
        "import pandas as pd"
      ],
      "execution_count": null,
      "outputs": []
    },
    {
      "cell_type": "markdown",
      "metadata": {
        "id": "Bkg7djDW2K_a"
      },
      "source": [
        "## MNIST Data Collection"
      ]
    },
    {
      "cell_type": "code",
      "metadata": {
        "colab": {
          "base_uri": "https://localhost:8080/"
        },
        "id": "09HLkyVhuvyP",
        "outputId": "cdd2f9e7-f4cf-4e4a-c8f2-a1eeeb73d2c6"
      },
      "source": [
        "!wget https://nkb-backend-otg-media-static.s3.ap-south-1.amazonaws.com/otg_prod/media/Tech_4.0/AI_ML/Datasets/kaggle_mnist/train.csv\n",
        "!wget https://nkb-backend-otg-media-static.s3.ap-south-1.amazonaws.com/otg_prod/media/Tech_4.0/AI_ML/Datasets/kaggle_mnist/test.csv"
      ],
      "execution_count": null,
      "outputs": [
        {
          "output_type": "stream",
          "text": [
            "--2021-07-21 06:09:41--  https://nkb-backend-otg-media-static.s3.ap-south-1.amazonaws.com/otg_prod/media/Tech_4.0/AI_ML/Datasets/kaggle_mnist/train.csv\n",
            "Resolving nkb-backend-otg-media-static.s3.ap-south-1.amazonaws.com (nkb-backend-otg-media-static.s3.ap-south-1.amazonaws.com)... 52.219.66.7\n",
            "Connecting to nkb-backend-otg-media-static.s3.ap-south-1.amazonaws.com (nkb-backend-otg-media-static.s3.ap-south-1.amazonaws.com)|52.219.66.7|:443... connected.\n",
            "HTTP request sent, awaiting response... 200 OK\n",
            "Length: 76775041 (73M) [text/csv]\n",
            "Saving to: ‘train.csv.1’\n",
            "\n",
            "train.csv.1         100%[===================>]  73.22M  12.0MB/s    in 7.9s    \n",
            "\n",
            "2021-07-21 06:09:50 (9.32 MB/s) - ‘train.csv.1’ saved [76775041/76775041]\n",
            "\n",
            "--2021-07-21 06:09:50--  https://nkb-backend-otg-media-static.s3.ap-south-1.amazonaws.com/otg_prod/media/Tech_4.0/AI_ML/Datasets/kaggle_mnist/test.csv\n",
            "Resolving nkb-backend-otg-media-static.s3.ap-south-1.amazonaws.com (nkb-backend-otg-media-static.s3.ap-south-1.amazonaws.com)... 52.219.156.26\n",
            "Connecting to nkb-backend-otg-media-static.s3.ap-south-1.amazonaws.com (nkb-backend-otg-media-static.s3.ap-south-1.amazonaws.com)|52.219.156.26|:443... connected.\n",
            "HTTP request sent, awaiting response... 200 OK\n",
            "Length: 51118296 (49M) [text/csv]\n",
            "Saving to: ‘test.csv.1’\n",
            "\n",
            "test.csv.1          100%[===================>]  48.75M  10.6MB/s    in 6.1s    \n",
            "\n",
            "2021-07-21 06:09:57 (8.04 MB/s) - ‘test.csv.1’ saved [51118296/51118296]\n",
            "\n"
          ],
          "name": "stdout"
        }
      ]
    },
    {
      "cell_type": "code",
      "metadata": {
        "id": "HoJx-RR61Sk2"
      },
      "source": [
        "train_df = pd.read_csv('train.csv')\n",
        "train_X_df = train_df.drop('label', axis=1)\n",
        "train_Y_df = train_df['label']\n",
        "test_X_df = pd.read_csv('test.csv')"
      ],
      "execution_count": null,
      "outputs": []
    },
    {
      "cell_type": "code",
      "metadata": {
        "colab": {
          "base_uri": "https://localhost:8080/"
        },
        "id": "Wrq9OO3E5J9g",
        "outputId": "0ae240de-5358-46ee-eec9-ca270615e1dc"
      },
      "source": [
        "test_X_df,train_X_df"
      ],
      "execution_count": null,
      "outputs": [
        {
          "output_type": "execute_result",
          "data": {
            "text/plain": [
              "(       pixel0  pixel1  pixel2  pixel3  ...  pixel780  pixel781  pixel782  pixel783\n",
              " 0           0       0       0       0  ...         0         0         0         0\n",
              " 1           0       0       0       0  ...         0         0         0         0\n",
              " 2           0       0       0       0  ...         0         0         0         0\n",
              " 3           0       0       0       0  ...         0         0         0         0\n",
              " 4           0       0       0       0  ...         0         0         0         0\n",
              " ...       ...     ...     ...     ...  ...       ...       ...       ...       ...\n",
              " 27995       0       0       0       0  ...         0         0         0         0\n",
              " 27996       0       0       0       0  ...         0         0         0         0\n",
              " 27997       0       0       0       0  ...         0         0         0         0\n",
              " 27998       0       0       0       0  ...         0         0         0         0\n",
              " 27999       0       0       0       0  ...         0         0         0         0\n",
              " \n",
              " [28000 rows x 784 columns],\n",
              "        pixel0  pixel1  pixel2  pixel3  ...  pixel780  pixel781  pixel782  pixel783\n",
              " 0           0       0       0       0  ...         0         0         0         0\n",
              " 1           0       0       0       0  ...         0         0         0         0\n",
              " 2           0       0       0       0  ...         0         0         0         0\n",
              " 3           0       0       0       0  ...         0         0         0         0\n",
              " 4           0       0       0       0  ...         0         0         0         0\n",
              " ...       ...     ...     ...     ...  ...       ...       ...       ...       ...\n",
              " 41995       0       0       0       0  ...         0         0         0         0\n",
              " 41996       0       0       0       0  ...         0         0         0         0\n",
              " 41997       0       0       0       0  ...         0         0         0         0\n",
              " 41998       0       0       0       0  ...         0         0         0         0\n",
              " 41999       0       0       0       0  ...         0         0         0         0\n",
              " \n",
              " [42000 rows x 784 columns])"
            ]
          },
          "metadata": {
            "tags": []
          },
          "execution_count": 5
        }
      ]
    },
    {
      "cell_type": "markdown",
      "metadata": {
        "id": "IQyHV0j8CvB8"
      },
      "source": [
        "## Applying the [KNeighborsClassifier](https://scikit-learn.org/stable/modules/generated/sklearn.neighbors.KNeighborsClassifier.html) on MNIST Dataset using [Pipelines](https://scikit-learn.org/stable/modules/generated/sklearn.pipeline.Pipeline.html)"
      ]
    },
    {
      "cell_type": "markdown",
      "metadata": {
        "id": "R-vdeRceeWcH"
      },
      "source": [
        "### Creating Pipeline"
      ]
    },
    {
      "cell_type": "markdown",
      "metadata": {
        "id": "WX_Er_pX0DAG"
      },
      "source": [
        "**ToDo**\n",
        "* Create a pipeline with a Scaler using the [KNeighborsClassifier](https://scikit-learn.org/stable/modules/generated/sklearn.neighbors.KNeighborsClassifier.html) as an estimator \n",
        "  * You can try different scaling techniques: [StandardScaler](https://scikit-learn.org/stable/modules/generated/sklearn.preprocessing.StandardScaler.html#sklearn.preprocessing.StandardScaler), [MinMaxScaler](https://scikit-learn.org/stable/modules/generated/sklearn.preprocessing.MinMaxScaler.html#sklearn.preprocessing.MinMaxScaler), [RobustScaler](https://scikit-learn.org/stable/modules/generated/sklearn.preprocessing.RobustScaler.html#sklearn.preprocessing.RobustScaler)\n",
        "  * Observe the difference in the performance with and without scaling the data"
      ]
    },
    {
      "cell_type": "code",
      "metadata": {
        "colab": {
          "base_uri": "https://localhost:8080/"
        },
        "id": "KNVNGfKZ3BrL",
        "outputId": "c4201223-2211-4a58-b5b8-7e79cd83bc84"
      },
      "source": [
        
        "from sklearn.preprocessing import StandardScaler\n",
        "from sklearn.neighbors import KNeighborsClassifier\n",
        "from sklearn.pipeline import Pipeline\n",
        "\n",
        "pipe=Pipeline(steps=[('scaler',StandardScaler()),\n",
        "                     ('Knn',KNeighborsClassifier())])\n",
        "pipe.fit(train_X_df,train_Y_df)\n"
      ],
      "execution_count": null,
      "outputs": [
        {
          "output_type": "execute_result",
          "data": {
            "text/plain": [
              "Pipeline(memory=None,\n",
              "         steps=[('scaler',\n",
              "                 StandardScaler(copy=True, with_mean=True, with_std=True)),\n",
              "                ('Knn',\n",
              "                 KNeighborsClassifier(algorithm='auto', leaf_size=30,\n",
              "                                      metric='minkowski', metric_params=None,\n",
              "                                      n_jobs=None, n_neighbors=5, p=2,\n",
              "                                      weights='uniform'))],\n",
              "         verbose=False)"
            ]
          },
          "metadata": {
            "tags": []
          },
          "execution_count": 6
        }
      ]
    },
    {
      "cell_type": "markdown",
      "metadata": {
        "id": "UVPIPPq0eZUl"
      },
      "source": [
        "### Hyperparameter Tuning"
      ]
    },
    {
      "cell_type": "markdown",
      "metadata": {
        "id": "Ecx7w32I6i4P"
      },
      "source": [
        "**ToDo**\n",
        "* Pass the pipeline to [GridSearchCV](https://scikit-learn.org/stable/modules/generated/sklearn.model_selection.GridSearchCV.html) for hyperparameter tuning and get the best **k** (nearest neighbours) and **p** (power metric in minkowski's distance) values.\n",
        "\n",
        "  **Note** : This step might take a long time. Hence, it is better to start with:\n",
        "  * fewer values for each hyperparameter \n",
        "  * smaller values of **`k`**  \n",
        "\n",
        "  You can also try coarse-to-fine search.\n"
      ]
    },
    {
      "cell_type": "code",
      "metadata": {
        "id": "eup5rP7m3wTK",
        "colab": {
          "base_uri": "https://localhost:8080/"
        },
        "outputId": "45e65e58-2c9b-4f4c-d0f1-d32b31280f12"
      },
      "source": [
        "# ,
        "from sklearn.model_selection import GridSearchCV\n",
        "params_grid={\n",
        "    'Knn__n_neighbors':[6,7,8],\n",
        "    'Knn__p':[1,2]\n",
        "}\n",
        "\n",
        "grid_search=GridSearchCV(pipe,param_grid=params_grid,scoring='accuracy',refit=True)\n",
        "grid_search.fit(train_X_df,train_Y_df)"
      ],
      "execution_count": null,
      "outputs": [
        {
          "output_type": "execute_result",
          "data": {
            "text/plain": [
              "GridSearchCV(cv=None, error_score=nan,\n",
              "             estimator=Pipeline(memory=None,\n",
              "                                steps=[('scaler',\n",
              "                                        StandardScaler(copy=True,\n",
              "                                                       with_mean=True,\n",
              "                                                       with_std=True)),\n",
              "                                       ('Knn',\n",
              "                                        KNeighborsClassifier(algorithm='auto',\n",
              "                                                             leaf_size=30,\n",
              "                                                             metric='minkowski',\n",
              "                                                             metric_params=None,\n",
              "                                                             n_jobs=None,\n",
              "                                                             n_neighbors=5, p=2,\n",
              "                                                             weights='uniform'))],\n",
              "                                verbose=False),\n",
              "             iid='deprecated', n_jobs=None,\n",
              "             param_grid={'Knn__n_neighbors': [6, 7, 8], 'Knn__p': [1, 2]},\n",
              "             pre_dispatch='2*n_jobs', refit=True, return_train_score=False,\n",
              "             scoring='accuracy', verbose=0)"
            ]
          },
          "metadata": {
            "tags": []
          },
          "execution_count": 7
        }
      ]
    },
    {
      "cell_type": "code",
      "metadata": {
        "id": "46ErRPU1EEue",
        "colab": {
          "base_uri": "https://localhost:8080/"
        },
        "outputId": "bfd7aa8e-fc0e-45c9-f377-0ee90d7af730"
      },
      "source": [
        "print(grid_search.best_params_)"
      ],
      "execution_count": null,
      "outputs": [
        {
          "output_type": "stream",
          "text": [
            "{'Knn__n_neighbors': 7, 'Knn__p': 1}\n"
          ],
          "name": "stdout"
        }
      ]
    },
    {
      "cell_type": "markdown",
      "metadata": {
        "id": "iWrNYBa9ed0r"
      },
      "source": [
        "### Predictions on the Test Data"
      ]
    },
    {
      "cell_type": "markdown",
      "metadata": {
        "id": "JjR1nnGJ0JnX"
      },
      "source": [
        "**ToDo**\n",
        "\n",
        "  * Predict the target values for `test_X_df` using the best model (model trained using the optimal hyperparameters on the entire train data).\n",
        "\n",
        "    **Note** : This step might take long time (~30 mins) to run, as there are many examples in `test_X_df`\n"
      ]
    },
    {
      "cell_type": "code",
      "metadata": {
        "id": "q-dmSAeBINrT",
        "colab": {
          "base_uri": "https://localhost:8080/"
        },
        "outputId": "e360057e-a349-4078-d53e-47cb4007008d"
      },
      "source": [
        "# ",
        "best_model = grid_search.best_estimator_\n",
        "predicted_test_Y = best_model.predict(test_X_df)\n",
        "predicted_test_Y\n",
        "\n"
      ],
      "execution_count": null,
      "outputs": [
        {
          "output_type": "execute_result",
          "data": {
            "text/plain": [
              "array([2, 0, 9, ..., 3, 9, 2])"
            ]
          },
          "metadata": {
            "tags": []
          },
          "execution_count": 9
        }
      ]
    }
  ]
}
